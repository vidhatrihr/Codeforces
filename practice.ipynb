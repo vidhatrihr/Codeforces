{
 "cells": [
  {
   "cell_type": "code",
   "execution_count": 5,
   "metadata": {},
   "outputs": [
    {
     "name": "stdout",
     "output_type": "stream",
     "text": [
      "2550\n"
     ]
    }
   ],
   "source": [
    "n = 100\n",
    "x = 2\n",
    "kx = x\n",
    "sum = 0\n",
    "while kx <= n:\n",
    "  sum += kx\n",
    "  kx += x\n",
    "print(sum)"
   ]
  },
  {
   "cell_type": "code",
   "execution_count": 11,
   "metadata": {},
   "outputs": [
    {
     "name": "stdout",
     "output_type": "stream",
     "text": [
      "[3]\n",
      "[3, 6]\n",
      "[3, 6, 1]\n",
      "[3, 6, 1, 7]\n",
      "[3, 6, 1, 7, 9]\n"
     ]
    }
   ],
   "source": [
    "# step 1\n",
    "array = [3, 6, 1, 7, 9]\n",
    "print(array[:1])\n",
    "print(array[:2])\n",
    "print(array[:3])\n",
    "print(array[:4])\n",
    "print(array[:5])"
   ]
  },
  {
   "cell_type": "code",
   "execution_count": 14,
   "metadata": {},
   "outputs": [
    {
     "name": "stdout",
     "output_type": "stream",
     "text": [
      "[3]\n",
      "[3, 6]\n",
      "[3, 6, 1]\n",
      "[3, 6, 1, 7]\n",
      "[3, 6, 1, 7, 9]\n"
     ]
    }
   ],
   "source": [
    "# step 1\n",
    "array = [3, 6, 1, 7, 9]\n",
    "for i in range(len(array)):\n",
    "  # print(i+1)\n",
    "  print(array[:i+1])"
   ]
  },
  {
   "cell_type": "code",
   "execution_count": 5,
   "metadata": {},
   "outputs": [
    {
     "name": "stdout",
     "output_type": "stream",
     "text": [
      "4 good\n"
     ]
    }
   ],
   "source": [
    "# step 2\n",
    "prefix = [0, 1, 2, 1, 4]\n",
    "prefix_sum = sum(prefix)\n",
    "# print(prefix_sum)\n",
    "for x in prefix:\n",
    "  if prefix_sum - x == x:\n",
    "    print(x, 'good')\n",
    "    break"
   ]
  },
  {
   "cell_type": "code",
   "execution_count": 7,
   "metadata": {},
   "outputs": [
    {
     "data": {
      "text/plain": [
       "False"
      ]
     },
     "execution_count": 7,
     "metadata": {},
     "output_type": "execute_result"
    }
   ],
   "source": [
    "def check_good(prefix):\n",
    "  prefix_sum = sum(prefix)\n",
    "  for x in prefix:\n",
    "    if prefix_sum - x == x:\n",
    "      return True\n",
    "  return False\n",
    "\n",
    "\n",
    "check_good([0, 1, 2, 1, 6])"
   ]
  },
  {
   "cell_type": "markdown",
   "metadata": {},
   "source": [
    "# Bit++ problem"
   ]
  },
  {
   "cell_type": "markdown",
   "metadata": {},
   "source": [
    "n = num of operations\n",
    "'++' in the equation adds value by +1\n",
    "'--' in the equation subtracts value by -1\n",
    "initial value of x is 0"
   ]
  },
  {
   "cell_type": "code",
   "execution_count": null,
   "metadata": {},
   "outputs": [],
   "source": []
  }
 ],
 "metadata": {
  "kernelspec": {
   "display_name": "Python 3",
   "language": "python",
   "name": "python3"
  },
  "language_info": {
   "codemirror_mode": {
    "name": "ipython",
    "version": 3
   },
   "file_extension": ".py",
   "mimetype": "text/x-python",
   "name": "python",
   "nbconvert_exporter": "python",
   "pygments_lexer": "ipython3",
   "version": "3.12.3"
  }
 },
 "nbformat": 4,
 "nbformat_minor": 2
}
